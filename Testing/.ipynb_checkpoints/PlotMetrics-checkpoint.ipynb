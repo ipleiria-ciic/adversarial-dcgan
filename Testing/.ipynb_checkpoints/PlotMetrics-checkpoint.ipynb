{
 "cells": [
  {
   "cell_type": "code",
   "execution_count": null,
   "id": "a33d4906-327e-484f-8ef1-90add68036c1",
   "metadata": {},
   "outputs": [],
   "source": [
    "import json\n",
    "import numpy as np\n",
    "import matplotlib.pyplot as plt"
   ]
  },
  {
   "cell_type": "code",
   "execution_count": null,
   "id": "c8d81a40-86ef-488f-96af-0e8092a0fdec",
   "metadata": {},
   "outputs": [],
   "source": [
    "with open(\"Evaluation_Results.json\", \"r\") as f:\n",
    "    results = json.load(f)"
   ]
  },
  {
   "cell_type": "code",
   "execution_count": null,
   "id": "d5c378f4-33e5-4999-914f-ee2995d7b18e",
   "metadata": {},
   "outputs": [],
   "source": [
    "iterations = [entry[\"iteration\"] for entry in results]\n",
    "fid_scores = np.array([entry[\"fid_score\"] for entry in results])\n",
    "lpips_scores = np.array([entry[\"lpips_score\"] for entry in results])\n",
    "fooling_rates = np.array([entry[\"fooling_rate\"] for entry in results])"
   ]
  },
  {
   "cell_type": "code",
   "execution_count": null,
   "id": "51b8cb9d-ce6b-4f28-b913-7de15725aca6",
   "metadata": {},
   "outputs": [],
   "source": [
    "fid_min, fid_max = fid_scores.min(), fid_scores.max()\n",
    "fid_scores_normalized = (fid_scores - fid_min) / (fid_max - fid_min) if fid_max != fid_min else fid_scores"
   ]
  },
  {
   "cell_type": "code",
   "execution_count": null,
   "id": "2d00e229-4c33-4dc5-a7d9-0a0dff193a95",
   "metadata": {},
   "outputs": [],
   "source": [
    "plt.figure(figsize=(10, 5))\n",
    "\n",
    "plt.plot(iterations, fid_scores_normalized, marker='^', linestyle='-.', label=\"FID Score\", color='blue')\n",
    "plt.plot(iterations, lpips_scores, marker='s', linestyle='--', label=\"LPIPS Score\", color='green')\n",
    "plt.plot(iterations, fooling_rates, marker='o', linestyle='-', label=\"Fooling Rate\", color='red')\n",
    "\n",
    "plt.xlabel(\"Iteration\")\n",
    "plt.ylabel(\"Score\")\n",
    "plt.title(\"FID, LPIPS, and Fooling Rate vs Iteration\")\n",
    "plt.legend()\n",
    "plt.grid(True)\n",
    "\n",
    "plt.show()"
   ]
  },
  {
   "cell_type": "code",
   "execution_count": null,
   "id": "db948859-9fbd-41ce-926a-53327c1012bd",
   "metadata": {},
   "outputs": [],
   "source": []
  }
 ],
 "metadata": {
  "kernelspec": {
   "display_name": "Python 3 (ipykernel)",
   "language": "python",
   "name": "python3"
  },
  "language_info": {
   "codemirror_mode": {
    "name": "ipython",
    "version": 3
   },
   "file_extension": ".py",
   "mimetype": "text/x-python",
   "name": "python",
   "nbconvert_exporter": "python",
   "pygments_lexer": "ipython3",
   "version": "3.12.7"
  }
 },
 "nbformat": 4,
 "nbformat_minor": 5
}
