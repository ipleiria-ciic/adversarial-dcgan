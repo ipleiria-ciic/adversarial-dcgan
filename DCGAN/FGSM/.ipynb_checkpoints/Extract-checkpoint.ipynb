{
 "cells": [
  {
   "cell_type": "markdown",
   "id": "806b1d2a-1e77-4b1f-a74d-0b7363d07701",
   "metadata": {},
   "source": [
    "## Generate images from the DCGAN <mark>FGSM</mark> Generator"
   ]
  },
  {
   "cell_type": "code",
   "execution_count": 1,
   "id": "d95104a2-ac93-4652-a974-ebc87fbbf033",
   "metadata": {},
   "outputs": [],
   "source": [
    "import os\n",
    "import numpy as np\n",
    "from PIL import Image\n",
    "import torch\n",
    "import torch.nn as nn\n",
    "import torchvision.utils as vutils\n",
    "from torchvision import datasets, transforms\n",
    "from torch.utils.data import Dataset, DataLoader"
   ]
  },
  {
   "cell_type": "code",
   "execution_count": 2,
   "id": "bd4d093d-f911-44d7-b669-e546c42f3072",
   "metadata": {},
   "outputs": [],
   "source": [
    "workers = 2\n",
    "nc = 3\n",
    "nz = 100\n",
    "ngf = 64\n",
    "ndf = 64\n",
    "ngpu = 1"
   ]
  },
  {
   "cell_type": "code",
   "execution_count": 3,
   "id": "34473208-21d8-4b10-83a3-4375b24862e8",
   "metadata": {},
   "outputs": [],
   "source": [
    "device = torch.device(\"cuda:0\" if (torch.cuda.is_available() and ngpu > 0) else \"cpu\")"
   ]
  },
  {
   "cell_type": "markdown",
   "id": "ac8bce28-b1f6-434d-81a5-13685ddd4d5f",
   "metadata": {},
   "source": [
    "#### Custom dataloader class to fetch the filename of the images"
   ]
  },
  {
   "cell_type": "code",
   "execution_count": null,
   "id": "87e73c91-2f5a-410a-b062-afd440b9d220",
   "metadata": {},
   "outputs": [],
   "source": [
    "# Define transformation\n",
    "transform = transforms.Compose([\n",
    "    transforms.Resize(64),\n",
    "    transforms.ToTensor(),\n",
    "    transforms.Normalize(mean=[0.485, 0.456, 0.406], std=[0.229, 0.224, 0.225]),\n",
    "])\n",
    "\n",
    "# Use ImageFolder to automatically get images and class labels\n",
    "dataset = datasets.ImageFolder(root=\"../../Attacks/FGSM\", transform=transform)\n",
    "\n",
    "# Modify dataset to return filenames\n",
    "class CustomDataset(datasets.ImageFolder):\n",
    "    def __getitem__(self, index):\n",
    "        path, target = self.samples[index]\n",
    "        image = self.loader(path)\n",
    "        if self.transform:\n",
    "            image = self.transform(image)\n",
    "        filename = os.path.basename(path)  # Extract filename\n",
    "        class_name = self.classes[target]  # Get class label from index\n",
    "        return image, filename, class_name\n",
    "\n",
    "# Create the dataloader\n",
    "dataloader = DataLoader(CustomDataset(root=\"../../Attacks/FGSM\", transform=transform), batch_size=1, shuffle=False)"
   ]
  },
  {
   "cell_type": "markdown",
   "id": "6995ab64-b37e-4d14-830a-b7345a5176a6",
   "metadata": {},
   "source": [
    "#### Generator class"
   ]
  },
  {
   "cell_type": "code",
   "execution_count": null,
   "id": "53fe52ed-eb49-4dcb-997e-d04eaa3d96ef",
   "metadata": {},
   "outputs": [],
   "source": [
    "class Generator(nn.Module):\n",
    "    def __init__(self, ngpu):\n",
    "        super(Generator, self).__init__()\n",
    "        self.ngpu = ngpu\n",
    "        self.main = nn.Sequential(\n",
    "            nn.ConvTranspose2d(nz, ngf*8, 4, 1, 0, bias=False),\n",
    "            nn.BatchNorm2d(ngf*8),\n",
    "            nn.ReLU(True),\n",
    "\n",
    "            nn.ConvTranspose2d(ngf*8, ngf * 4, 4, 2, 1, bias=False),\n",
    "            nn.BatchNorm2d(ngf*4),\n",
    "            nn.ReLU(True),\n",
    "\n",
    "            nn.ConvTranspose2d(ngf*4, ngf*2, 4, 2, 1, bias=False),\n",
    "            nn.BatchNorm2d(ngf*2),\n",
    "            nn.ReLU(True),\n",
    "\n",
    "            nn.ConvTranspose2d(ngf*2, ngf, 4, 2, 1, bias=False),\n",
    "            nn.BatchNorm2d(ngf),\n",
    "            nn.ReLU(True),\n",
    "\n",
    "            nn.ConvTranspose2d(ngf, nc, 4, 2, 1, bias=False),\n",
    "            nn.Tanh()\n",
    "        )\n",
    "\n",
    "    def forward(self, input):\n",
    "        return self.main(input)"
   ]
  },
  {
   "cell_type": "markdown",
   "id": "8e090699-1248-4133-b956-9d4708f0184e",
   "metadata": {},
   "source": [
    "#### Generate adversarial images from the dataloader source"
   ]
  },
  {
   "cell_type": "code",
   "execution_count": null,
   "id": "d43335f4-99f9-40fd-bc0e-93ce844c300f",
   "metadata": {},
   "outputs": [],
   "source": [
    "netG = Generator(ngpu).to(device)\n",
    "netG.load_state_dict(torch.load('Models/FGSM.pth'))\n",
    "netG.eval()"
   ]
  },
  {
   "cell_type": "code",
   "execution_count": null,
   "id": "8792547e-55fe-4a7b-9467-ff5404b4a2ef",
   "metadata": {},
   "outputs": [],
   "source": [
    "output_dir = \"FGSM\"\n",
    "os.makedirs(output_dir, exist_ok=True)\n",
    "\n",
    "with torch.no_grad():\n",
    "    for i, (real_img, filename, class_name) in enumerate(dataloader):\n",
    "        real_img = real_img.to(device)\n",
    "\n",
    "        # Generate a random noise vector\n",
    "        noise = torch.randn(1, nz, 1, 1, device=device)\n",
    "\n",
    "        # Generate the fake image\n",
    "        fake_img = netG(noise).detach().cpu()\n",
    "\n",
    "        # Convert to PIL image\n",
    "        fake_pil = transforms.ToPILImage()(fake_img.squeeze(0))\n",
    "\n",
    "        # Create subfolder for class if it doesn't exist\n",
    "        class_dir = os.path.join(output_dir, class_name[0])\n",
    "        os.makedirs(class_dir, exist_ok=True)\n",
    "\n",
    "        # Save with the original filename\n",
    "        save_path = os.path.join(class_dir, filename[0])  # filename is a list, get the first element\n",
    "        fake_pil.save(save_path)\n",
    "\n",
    "        print(f\"Saved generated image as {save_path}\")"
   ]
  }
 ],
 "metadata": {
  "kernelspec": {
   "display_name": "Python 3 (ipykernel)",
   "language": "python",
   "name": "python3"
  },
  "language_info": {
   "codemirror_mode": {
    "name": "ipython",
    "version": 3
   },
   "file_extension": ".py",
   "mimetype": "text/x-python",
   "name": "python",
   "nbconvert_exporter": "python",
   "pygments_lexer": "ipython3",
   "version": "3.12.7"
  }
 },
 "nbformat": 4,
 "nbformat_minor": 5
}
